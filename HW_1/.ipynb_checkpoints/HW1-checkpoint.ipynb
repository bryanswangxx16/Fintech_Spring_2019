{
 "cells": [
  {
   "cell_type": "code",
   "execution_count": null,
   "metadata": {},
   "outputs": [],
   "source": [
    "import pandas as pd\n",
    "import datetime as dt\n",
    "\n",
    "path = '/mnt/c/Users/bryan/OneDrive/Desktop/Fintech_Spring_2019/HW_1/ETF_data.csv'\n",
    "file = pd.read_csv(path)\n",
    "\n",
    "date = file['Inception']\n",
    "file['Date'] = pd.to_datetime(date)\n",
    "file = file.loc[file['Date'] < dt.date(2015,12,1)]\n",
    "save = file[['Symbol', 'ETF Name']]\n",
    "\n",
    "save.to_csv('/mnt/c/Users/bryan/OneDrive/Desktop/Fintech_Spring_2019/HW_1/ETF_names.csv')\n"
   ]
  },
  {
   "cell_type": "code",
   "execution_count": null,
   "metadata": {},
   "outputs": [],
   "source": []
  }
 ],
 "metadata": {
  "kernelspec": {
   "display_name": "Python 3",
   "language": "python",
   "name": "python3"
  },
  "language_info": {
   "codemirror_mode": {
    "name": "ipython",
    "version": 3
   },
   "file_extension": ".py",
   "mimetype": "text/x-python",
   "name": "python",
   "nbconvert_exporter": "python",
   "pygments_lexer": "ipython3",
   "version": "3.5.2"
  }
 },
 "nbformat": 4,
 "nbformat_minor": 2
}
